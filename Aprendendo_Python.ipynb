{
  "nbformat": 4,
  "nbformat_minor": 0,
  "metadata": {
    "colab": {
      "name": "Aprendendo Python",
      "provenance": [],
      "collapsed_sections": [],
      "authorship_tag": "ABX9TyNI7cYBT+rt63MXPKsyI+Sz",
      "include_colab_link": true
    },
    "kernelspec": {
      "name": "python3",
      "display_name": "Python 3"
    },
    "language_info": {
      "name": "python"
    }
  },
  "cells": [
    {
      "cell_type": "markdown",
      "metadata": {
        "id": "view-in-github",
        "colab_type": "text"
      },
      "source": [
        "<a href=\"https://colab.research.google.com/github/Laurindo7940/Background-de-c-digos-inspirado-no-matrix/blob/main/Aprendendo_Python.ipynb\" target=\"_parent\"><img src=\"https://colab.research.google.com/assets/colab-badge.svg\" alt=\"Open In Colab\"/></a>"
      ]
    },
    {
      "cell_type": "code",
      "execution_count": null,
      "metadata": {
        "id": "-8dk1jCyFhcS"
      },
      "outputs": [],
      "source": [
        "nome = \"Gabriel\"\n",
        "print(nome)"
      ]
    },
    {
      "cell_type": "code",
      "source": [
        "nome = \"Laurindo\"\n",
        "nome"
      ],
      "metadata": {
        "id": "vm_RDFWOGr5k"
      },
      "execution_count": null,
      "outputs": []
    },
    {
      "cell_type": "code",
      "source": [
        "idade = 21\n",
        "idade"
      ],
      "metadata": {
        "id": "rJg7OYOBHF7E"
      },
      "execution_count": null,
      "outputs": []
    },
    {
      "cell_type": "code",
      "source": [
        "idade + 3"
      ],
      "metadata": {
        "id": "xzwZwSuCHM8_"
      },
      "execution_count": null,
      "outputs": []
    },
    {
      "cell_type": "code",
      "source": [
        "idade = idade - 3\n",
        "idade"
      ],
      "metadata": {
        "colab": {
          "base_uri": "https://localhost:8080/"
        },
        "id": "KhBpzs3hHRjH",
        "outputId": "f279bc7f-2069-4ddd-ccf7-48daba2caafa"
      },
      "execution_count": 19,
      "outputs": [
        {
          "output_type": "execute_result",
          "data": {
            "text/plain": [
              "15"
            ]
          },
          "metadata": {},
          "execution_count": 19
        }
      ]
    },
    {
      "cell_type": "code",
      "source": [
        "def mais_um_ano(idade):\n",
        "  print(\"ta dentro dessa funcao\")\n",
        "  return idade + 1"
      ],
      "metadata": {
        "id": "WBG7iOjyHrWJ"
      },
      "execution_count": 21,
      "outputs": []
    },
    {
      "cell_type": "code",
      "source": [
        "mais_um_ano(17)"
      ],
      "metadata": {
        "colab": {
          "base_uri": "https://localhost:8080/"
        },
        "id": "ThwJHj5KJJi0",
        "outputId": "f238ac7b-0483-450b-a084-6f5f824f18e4"
      },
      "execution_count": 23,
      "outputs": [
        {
          "output_type": "stream",
          "name": "stdout",
          "text": [
            "ta dentro dessa funcao\n"
          ]
        },
        {
          "output_type": "execute_result",
          "data": {
            "text/plain": [
              "18"
            ]
          },
          "metadata": {},
          "execution_count": 23
        }
      ]
    },
    {
      "cell_type": "code",
      "source": [
        "filmes = [\"Toy Story 17\", \"Ta dando onda\", \"Carros 3\"]\n",
        "filmes"
      ],
      "metadata": {
        "colab": {
          "base_uri": "https://localhost:8080/"
        },
        "id": "pd8Mrt2oJxnn",
        "outputId": "4ffd2bf6-19ad-4c01-887c-858a280ffda9"
      },
      "execution_count": 24,
      "outputs": [
        {
          "output_type": "execute_result",
          "data": {
            "text/plain": [
              "['Toy Story 17', 'Ta dando onda', 'Carros 3']"
            ]
          },
          "metadata": {},
          "execution_count": 24
        }
      ]
    },
    {
      "cell_type": "code",
      "source": [
        "def imprime_filmes(filmes_que_quero_imprimir):\n",
        "  print(\"A lista de filmes que eu tenho disponiveis\")\n",
        "  print(filmes_que_quero_imprimir)"
      ],
      "metadata": {
        "id": "5M2x7rOXKvlo"
      },
      "execution_count": 32,
      "outputs": []
    },
    {
      "cell_type": "code",
      "source": [
        "imprime_filmes(filmes)"
      ],
      "metadata": {
        "colab": {
          "base_uri": "https://localhost:8080/"
        },
        "id": "6FPZfGEoLBC-",
        "outputId": "42e3f591-15fd-4375-c088-5b2b8ca13a4f"
      },
      "execution_count": 33,
      "outputs": [
        {
          "output_type": "stream",
          "name": "stdout",
          "text": [
            "A lista de filmes que eu tenho disponiveis\n",
            "['Toy Story 17', 'Ta dando onda', 'Carros 3']\n"
          ]
        }
      ]
    },
    {
      "cell_type": "code",
      "source": [
        "filmes[0]"
      ],
      "metadata": {
        "colab": {
          "base_uri": "https://localhost:8080/",
          "height": 35
        },
        "id": "GF0UjEPZLXXS",
        "outputId": "2eb5c319-a5d4-4cc4-9371-1a4375761672"
      },
      "execution_count": 34,
      "outputs": [
        {
          "output_type": "execute_result",
          "data": {
            "text/plain": [
              "'Toy Story 17'"
            ],
            "application/vnd.google.colaboratory.intrinsic+json": {
              "type": "string"
            }
          },
          "metadata": {},
          "execution_count": 34
        }
      ]
    },
    {
      "cell_type": "code",
      "source": [
        "filmes[1]"
      ],
      "metadata": {
        "colab": {
          "base_uri": "https://localhost:8080/",
          "height": 35
        },
        "id": "t2FLHMbaLZp1",
        "outputId": "604465fd-b80f-4b55-85fb-ff169002ddae"
      },
      "execution_count": 35,
      "outputs": [
        {
          "output_type": "execute_result",
          "data": {
            "text/plain": [
              "'Ta dando onda'"
            ],
            "application/vnd.google.colaboratory.intrinsic+json": {
              "type": "string"
            }
          },
          "metadata": {},
          "execution_count": 35
        }
      ]
    },
    {
      "cell_type": "code",
      "source": [
        "filmes[2]"
      ],
      "metadata": {
        "colab": {
          "base_uri": "https://localhost:8080/",
          "height": 35
        },
        "id": "-uFg6uH3Lc--",
        "outputId": "b29bb4ee-5aec-4772-9c08-c5d75bc49d78"
      },
      "execution_count": 36,
      "outputs": [
        {
          "output_type": "execute_result",
          "data": {
            "text/plain": [
              "'Carros 3'"
            ],
            "application/vnd.google.colaboratory.intrinsic+json": {
              "type": "string"
            }
          },
          "metadata": {},
          "execution_count": 36
        }
      ]
    },
    {
      "cell_type": "code",
      "source": [
        "filmes[-1]"
      ],
      "metadata": {
        "colab": {
          "base_uri": "https://localhost:8080/",
          "height": 35
        },
        "id": "F_mM344QLpbO",
        "outputId": "f47057df-0f63-434f-ed34-b398ef1792d9"
      },
      "execution_count": 37,
      "outputs": [
        {
          "output_type": "execute_result",
          "data": {
            "text/plain": [
              "'Carros 3'"
            ],
            "application/vnd.google.colaboratory.intrinsic+json": {
              "type": "string"
            }
          },
          "metadata": {},
          "execution_count": 37
        }
      ]
    },
    {
      "cell_type": "code",
      "source": [
        "filmes[-2]"
      ],
      "metadata": {
        "colab": {
          "base_uri": "https://localhost:8080/",
          "height": 35
        },
        "id": "2jnlLFtpLtaE",
        "outputId": "8b9f8c2c-23f0-471c-902f-b0e7d60c7113"
      },
      "execution_count": 38,
      "outputs": [
        {
          "output_type": "execute_result",
          "data": {
            "text/plain": [
              "'Ta dando onda'"
            ],
            "application/vnd.google.colaboratory.intrinsic+json": {
              "type": "string"
            }
          },
          "metadata": {},
          "execution_count": 38
        }
      ]
    },
    {
      "cell_type": "code",
      "source": [
        "filmes[-3]"
      ],
      "metadata": {
        "colab": {
          "base_uri": "https://localhost:8080/",
          "height": 35
        },
        "id": "LUC7ilimLvsM",
        "outputId": "7e0b5430-d6f7-4a24-d074-6e7fdc31428c"
      },
      "execution_count": 39,
      "outputs": [
        {
          "output_type": "execute_result",
          "data": {
            "text/plain": [
              "'Toy Story 17'"
            ],
            "application/vnd.google.colaboratory.intrinsic+json": {
              "type": "string"
            }
          },
          "metadata": {},
          "execution_count": 39
        }
      ]
    },
    {
      "cell_type": "code",
      "source": [
        "filmes[1:]"
      ],
      "metadata": {
        "colab": {
          "base_uri": "https://localhost:8080/"
        },
        "id": "oCSIC_hvL6vg",
        "outputId": "dbb681e7-fac5-4ba7-91c8-f978c9aa7646"
      },
      "execution_count": 40,
      "outputs": [
        {
          "output_type": "execute_result",
          "data": {
            "text/plain": [
              "['Ta dando onda', 'Carros 3']"
            ]
          },
          "metadata": {},
          "execution_count": 40
        }
      ]
    },
    {
      "cell_type": "code",
      "source": [
        "for filme in filmes:\n",
        "  print(filme)\n",
        "  print(\"...\")\n",
        "print(\"Estou fora\")"
      ],
      "metadata": {
        "colab": {
          "base_uri": "https://localhost:8080/"
        },
        "id": "T6dusr2eMPNb",
        "outputId": "f58dc16e-f0a0-4444-c399-0bebbb3bbd0a"
      },
      "execution_count": 42,
      "outputs": [
        {
          "output_type": "stream",
          "name": "stdout",
          "text": [
            "Toy Story 17\n",
            "...\n",
            "Ta dando onda\n",
            "...\n",
            "Carros 3\n",
            "...\n",
            "Estou fora\n"
          ]
        }
      ]
    },
    {
      "cell_type": "code",
      "source": [
        "def imprime_filmes(filmes_que_quero_imprimir):\n",
        "  print('A lista de filmes que eu tenho disponíveis:')\n",
        "  for filme in filmes_que_quero_imprimir:\n",
        "    print(filme)"
      ],
      "metadata": {
        "id": "azdfVRKWMp2K"
      },
      "execution_count": 45,
      "outputs": []
    },
    {
      "cell_type": "code",
      "source": [
        "imprime_filmes(filmes)"
      ],
      "metadata": {
        "colab": {
          "base_uri": "https://localhost:8080/"
        },
        "id": "xX_0dRj7M4cR",
        "outputId": "6eded2da-f9aa-4505-cb89-f51dada33ee9"
      },
      "execution_count": 46,
      "outputs": [
        {
          "output_type": "stream",
          "name": "stdout",
          "text": [
            "A lista de filmes que eu tenho disponíveis:\n",
            "Toy Story 17\n",
            "Ta dando onda\n",
            "Carros 3\n"
          ]
        }
      ]
    },
    {
      "cell_type": "code",
      "source": [
        "dados = {\"nome\" : \"Guilherme\",\n",
        "         \"idade\" : 37,\n",
        "         \"empresa\" : \"Alura\"}\n",
        "\n",
        "dados"
      ],
      "metadata": {
        "colab": {
          "base_uri": "https://localhost:8080/"
        },
        "id": "xegmgMokNUgP",
        "outputId": "bc7a2314-9af6-4fa7-cc21-f6965b09f9a4"
      },
      "execution_count": 48,
      "outputs": [
        {
          "output_type": "execute_result",
          "data": {
            "text/plain": [
              "{'empresa': 'Alura', 'idade': 37, 'nome': 'Guilherme'}"
            ]
          },
          "metadata": {},
          "execution_count": 48
        }
      ]
    },
    {
      "cell_type": "code",
      "source": [
        "dados[\"nome\"]\n",
        "dados[\"idade\"]\n",
        "dados[\"empresa\"]"
      ],
      "metadata": {
        "colab": {
          "base_uri": "https://localhost:8080/",
          "height": 35
        },
        "id": "j5DpSArFNnfX",
        "outputId": "0703fa14-a638-45c2-f429-895ca775fc4b"
      },
      "execution_count": 51,
      "outputs": [
        {
          "output_type": "execute_result",
          "data": {
            "text/plain": [
              "'Alura'"
            ],
            "application/vnd.google.colaboratory.intrinsic+json": {
              "type": "string"
            }
          },
          "metadata": {},
          "execution_count": 51
        }
      ]
    }
  ]
}